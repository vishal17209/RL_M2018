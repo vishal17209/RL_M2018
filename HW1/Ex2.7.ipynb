{
 "cells": [
  {
   "cell_type": "code",
   "execution_count": 1,
   "metadata": {},
   "outputs": [],
   "source": [
    "%matplotlib inline\n",
    "import numpy as np\n",
    "import matplotlib.pyplot as plt\n",
    "import random"
   ]
  },
  {
   "cell_type": "code",
   "execution_count": 2,
   "metadata": {},
   "outputs": [],
   "source": [
    "class multi_armed_bandit:\n",
    "    def __init__(self, k, bandits):\n",
    "        self.k = k\n",
    "        self.bandits = bandits\n",
    "        self.qn = np.zeros((self.bandits, self.k))\n",
    "        self.true_rewards =  np.zeros((self.bandits, k))\n",
    "        self.max_arms = np.argmax(self.true_rewards, 1)\n",
    "        \n",
    "    def random_walks(self):\n",
    "        self.true_rewards += np.random.normal(0,0.01,(self.bandits, self.k))\n",
    "        self.max_arms = np.argmax(self.true_rewards, 1)\n",
    "        \n",
    "    def increment_method(self, i, j, R, alpha):\n",
    "        self.qn[i][j] += alpha*(R - self.qn[i][j])\n",
    "        \n",
    "    def sampled_average(self):\n",
    "        pass"
   ]
  },
  {
   "cell_type": "code",
   "execution_count": null,
   "metadata": {},
   "outputs": [],
   "source": [
    "rewards = []\n",
    "opt_pulls = []\n",
    "testbed = multi_armed_bandit(10,2000)\n",
    "epsilon = 0\n",
    "n = np.zeros((testbed.bandits, testbed.k))\n",
    "alpha = 0.1\n",
    "bias_remover = 0\n",
    "\n",
    "for i in range(10001):\n",
    "    opt_pull = 0\n",
    "    temp_rewards = []\n",
    "    for j in range(testbed.bandits):\n",
    "        \n",
    "        if(random.random() < epsilon):\n",
    "            p = np.random.randint(testbed.k)\n",
    "        else:\n",
    "            p = np.argmax(testbed.qn[j])\n",
    "            \n",
    "        if(p == testbed.max_arms[j]):\n",
    "            opt_pull+=1\n",
    "            \n",
    "        curr_reward = np.random.normal(testbed.true_rewards[j][p], 1)\n",
    "        temp_rewards.append(curr_reward)\n",
    "        \n",
    "        n[j][p]+=1\n",
    "        bias_remover += alpha*(1-bias_remover)\n",
    "        testbed.increment_method(j, p, curr_reward,alpha/bias_remover)\n",
    "    \n",
    "    testbed.random_walks()\n",
    "        \n",
    "    avg_reward = np.mean(temp_rewards)\n",
    "    rewards.append(avg_reward)\n",
    "    opt_pulls.append(float(opt_pull)/20)\n",
    "    \n",
    "plt.plot(range(10001), rewards)"
   ]
  }
 ],
 "metadata": {
  "kernelspec": {
   "display_name": "Python 3",
   "language": "python",
   "name": "python3"
  },
  "language_info": {
   "codemirror_mode": {
    "name": "ipython",
    "version": 3
   },
   "file_extension": ".py",
   "mimetype": "text/x-python",
   "name": "python",
   "nbconvert_exporter": "python",
   "pygments_lexer": "ipython3",
   "version": "3.7.3"
  }
 },
 "nbformat": 4,
 "nbformat_minor": 2
}
