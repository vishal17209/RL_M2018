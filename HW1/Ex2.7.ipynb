{
 "cells": [
  {
   "cell_type": "code",
   "execution_count": 1,
   "metadata": {},
   "outputs": [],
   "source": [
    "%matplotlib inline\n",
    "import numpy as np\n",
    "import matplotlib.pyplot as plt\n",
    "import random"
   ]
  },
  {
   "cell_type": "code",
   "execution_count": 2,
   "metadata": {},
   "outputs": [],
   "source": [
    "class multi_armed_bandit:\n",
    "    def __init__(self, k):\n",
    "        self.k = k\n",
    "        self.actions = np.full(self.k, 0)\n",
    "        self.qn = np.zeros(self.k)\n",
    "        self.true_rewards =  np.zeros(self.k)\n",
    "        \n",
    "    def random_walks(self):\n",
    "        self.true_rewards += np.random.normal(0,0.01,self.k)\n",
    "        \n",
    "    def increment_method(self, i, alpha):\n",
    "        self.qn = self.qn + alpha*(self.true_rewards[i] - self.qn[i])\n",
    "        \n",
    "    def sampled_average(self):\n",
    "        pass"
   ]
  },
  {
   "cell_type": "code",
   "execution_count": null,
   "metadata": {},
   "outputs": [],
   "source": []
  }
 ],
 "metadata": {
  "kernelspec": {
   "display_name": "Python 3",
   "language": "python",
   "name": "python3"
  },
  "language_info": {
   "codemirror_mode": {
    "name": "ipython",
    "version": 3
   },
   "file_extension": ".py",
   "mimetype": "text/x-python",
   "name": "python",
   "nbconvert_exporter": "python",
   "pygments_lexer": "ipython3",
   "version": "3.7.3"
  }
 },
 "nbformat": 4,
 "nbformat_minor": 2
}
