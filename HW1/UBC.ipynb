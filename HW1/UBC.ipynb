{
 "cells": [
  {
   "cell_type": "code",
   "execution_count": 40,
   "metadata": {},
   "outputs": [],
   "source": [
    "%matplotlib inline\n",
    "import numpy as np\n",
    "import matplotlib.pyplot as plt\n",
    "import random"
   ]
  },
  {
   "cell_type": "code",
   "execution_count": 41,
   "metadata": {},
   "outputs": [],
   "source": [
    "class multi_armed_bandit:\n",
    "    def __init__(self, k, bandits):\n",
    "        self.k = k\n",
    "        self.bandits = bandits\n",
    "        self.qn = np.zeros((self.bandits, self.k))\n",
    "        self.true_rewards =  np.zeros((self.bandits, k))\n",
    "        self.max_arms = np.argmax(self.true_rewards, 1)\n",
    "        \n",
    "    def random_walks(self):\n",
    "        self.true_rewards += np.random.normal(0,0.01,(self.bandits, self.k))\n",
    "        self.max_arms = np.argmax(self.true_rewards, 1)\n",
    "        \n",
    "    def increment_method(self, i, j, R, alpha):\n",
    "        self.qn[i][j] += alpha*(R - self.qn[i][j])\n",
    "        \n",
    "    def sampled_average(self):\n",
    "        pass"
   ]
  },
  {
   "cell_type": "code",
   "execution_count": 42,
   "metadata": {},
   "outputs": [
    {
     "ename": "KeyboardInterrupt",
     "evalue": "",
     "output_type": "error",
     "traceback": [
      "\u001b[1;31m---------------------------------------------------------------------------\u001b[0m",
      "\u001b[1;31mKeyboardInterrupt\u001b[0m                         Traceback (most recent call last)",
      "\u001b[1;32m<ipython-input-42-096288dd6ecb>\u001b[0m in \u001b[0;36m<module>\u001b[1;34m\u001b[0m\n\u001b[0;32m     27\u001b[0m             \u001b[0mopt_pull\u001b[0m\u001b[1;33m+=\u001b[0m\u001b[1;36m1\u001b[0m\u001b[1;33m\u001b[0m\u001b[1;33m\u001b[0m\u001b[0m\n\u001b[0;32m     28\u001b[0m \u001b[1;33m\u001b[0m\u001b[0m\n\u001b[1;32m---> 29\u001b[1;33m         \u001b[0mcurr_reward\u001b[0m \u001b[1;33m=\u001b[0m \u001b[0mnp\u001b[0m\u001b[1;33m.\u001b[0m\u001b[0mrandom\u001b[0m\u001b[1;33m.\u001b[0m\u001b[0mnormal\u001b[0m\u001b[1;33m(\u001b[0m\u001b[0mtestbed\u001b[0m\u001b[1;33m.\u001b[0m\u001b[0mtrue_rewards\u001b[0m\u001b[1;33m[\u001b[0m\u001b[0mj\u001b[0m\u001b[1;33m]\u001b[0m\u001b[1;33m[\u001b[0m\u001b[0mp\u001b[0m\u001b[1;33m]\u001b[0m\u001b[1;33m,\u001b[0m \u001b[1;36m1\u001b[0m\u001b[1;33m)\u001b[0m\u001b[1;33m\u001b[0m\u001b[1;33m\u001b[0m\u001b[0m\n\u001b[0m\u001b[0;32m     30\u001b[0m         \u001b[0mtemp_rewards\u001b[0m\u001b[1;33m.\u001b[0m\u001b[0mappend\u001b[0m\u001b[1;33m(\u001b[0m\u001b[0mcurr_reward\u001b[0m\u001b[1;33m)\u001b[0m\u001b[1;33m\u001b[0m\u001b[1;33m\u001b[0m\u001b[0m\n\u001b[0;32m     31\u001b[0m \u001b[1;33m\u001b[0m\u001b[0m\n",
      "\u001b[1;31mKeyboardInterrupt\u001b[0m: "
     ]
    },
    {
     "data": {
      "image/png": "[encoded data removed]",
      "text/plain": [
       "<Figure size 432x288 with 1 Axes>"
      ]
     },
     "metadata": {
      "needs_background": "light"
     },
     "output_type": "display_data"
    },
    {
     "data": {
      "image/png": "[encoded data removed]",
      "text/plain": [
       "<Figure size 432x288 with 1 Axes>"
      ]
     },
     "metadata": {
      "needs_background": "light"
     },
     "output_type": "display_data"
    }
   ],
   "source": [
    "fig1 = plt.figure().add_subplot(111)\n",
    "fig2 = plt.figure().add_subplot(111)\n",
    "\n",
    "rewards = []\n",
    "opt_pulls = []\n",
    "testbed = multi_armed_bandit(10,2000)\n",
    "epsilon = 0\n",
    "n = np.zeros((testbed.bandits, testbed.k))\n",
    "c = 2\n",
    "\n",
    "for i in range(1,1001,1):\n",
    "    opt_pull = 0\n",
    "    temp_rewards = []\n",
    "    for j in range(testbed.bandits):\n",
    "        \n",
    "        max_value = 0\n",
    "        for l in range(len(n[j])):\n",
    "            if(n[j][l] == 0):\n",
    "                p = l\n",
    "                break\n",
    "            else:\n",
    "                if(max_value < testbed.qn[j][l] + np.sqrt(c*np.log(i))/n[j][l]):\n",
    "                    max_value = testbed.qn[j][l] + np.sqrt(c*np.log(i))/n[j][l]\n",
    "                    p = l\n",
    "            \n",
    "        if(p == testbed.max_arms[j]):\n",
    "            opt_pull+=1\n",
    "            \n",
    "        curr_reward = np.random.normal(testbed.true_rewards[j][p], 1)\n",
    "        temp_rewards.append(curr_reward)\n",
    "        \n",
    "        n[j][p]+=1\n",
    "        testbed.increment_method(j, p, curr_reward, 0.1)\n",
    "    \n",
    "    testbed.random_walks()\n",
    "    \n",
    "#     print(i, end=\" \")\n",
    "        \n",
    "    avg_reward = np.mean(temp_rewards)\n",
    "    rewards.append(avg_reward)\n",
    "    opt_pulls.append(float(opt_pull)/20)\n",
    "    \n",
    "# print()\n",
    "    \n",
    "fig1.plot(range(1,1001,1), rewards, 'r')\n",
    "fig2.plot(range(1,1001,1), opt_pulls, 'r')\n",
    "\n",
    "fig1.title.set_text('Average Reward')\n",
    "fig2.title.set_text('Optimal Action')"
   ]
  },
  {
   "cell_type": "code",
   "execution_count": 44,
   "metadata": {},
   "outputs": [
    {
     "data": {
      "image/png": "[encoded data removed]",
      "text/plain": [
       "<Figure size 432x288 with 1 Axes>"
      ]
     },
     "metadata": {
      "needs_background": "light"
     },
     "output_type": "display_data"
    },
    {
     "data": {
      "image/png": "[encoded data removed]",
      "text/plain": [
       "<Figure size 432x288 with 1 Axes>"
      ]
     },
     "metadata": {
      "needs_background": "light"
     },
     "output_type": "display_data"
    }
   ],
   "source": [
    "fig1 = plt.figure().add_subplot(111)\n",
    "fig2 = plt.figure().add_subplot(111)\n",
    "\n",
    "rewards = []\n",
    "opt_pulls = []\n",
    "testbed = multi_armed_bandit(10,2000)\n",
    "epsilon = 0\n",
    "n = np.zeros((testbed.bandits, testbed.k))\n",
    "c = 2\n",
    "testbed.true_rewards += np.random.normal(0,1,(testbed.bandits, testbed.k))\n",
    "\n",
    "for i in range(1,1001,1):\n",
    "    opt_pull = 0\n",
    "    temp_rewards = []\n",
    "    for j in range(testbed.bandits):\n",
    "        \n",
    "        max_value = 0\n",
    "        for l in range(len(n[j])):\n",
    "            if(n[j][l] == 0):\n",
    "                p = l\n",
    "                break\n",
    "            else:\n",
    "                if(max_value < testbed.qn[j][l] + np.sqrt(c*np.log(i))/n[j][l]):\n",
    "                    max_value = testbed.qn[j][l] + np.sqrt(c*np.log(i))/n[j][l]\n",
    "                    p = l\n",
    "            \n",
    "        if(p == testbed.max_arms[j]):\n",
    "            opt_pull+=1\n",
    "            \n",
    "        curr_reward = np.random.normal(testbed.true_rewards[j][p], 1)\n",
    "        temp_rewards.append(curr_reward)\n",
    "        \n",
    "        n[j][p]+=1\n",
    "        testbed.increment_method(j, p, curr_reward, 0.1)\n",
    "    \n",
    "#     testbed.random_walks()\n",
    "    \n",
    "#     print(i, end=\" \")\n",
    "        \n",
    "    avg_reward = np.mean(temp_rewards)\n",
    "    rewards.append(avg_reward)\n",
    "    opt_pulls.append(float(opt_pull)/20)\n",
    "    \n",
    "# print()\n",
    "    \n",
    "fig1.plot(range(1,1001,1), rewards, 'r')\n",
    "fig2.plot(range(1,1001,1), opt_pulls, 'r')\n",
    "\n",
    "fig1.title.set_text('Average Reward')\n",
    "fig2.title.set_text('Optimal Action')"
   ]
  }
 ],
 "metadata": {
  "kernelspec": {
   "display_name": "Python 3",
   "language": "python",
   "name": "python3"
  },
  "language_info": {
   "codemirror_mode": {
    "name": "ipython",
    "version": 3
   },
   "file_extension": ".py",
   "mimetype": "text/x-python",
   "name": "python",
   "nbconvert_exporter": "python",
   "pygments_lexer": "ipython3",
   "version": "3.7.3"
  }
 },
 "nbformat": 4,
 "nbformat_minor": 2
}
