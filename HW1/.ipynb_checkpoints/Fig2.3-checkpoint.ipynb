{
 "cells": [
  {
   "cell_type": "code",
   "execution_count": 13,
   "metadata": {},
   "outputs": [],
   "source": [
    "%matplotlib inline\n",
    "import numpy as np\n",
    "import matplotlib.pyplot as plt\n",
    "import random"
   ]
  },
  {
   "cell_type": "code",
   "execution_count": 14,
   "metadata": {},
   "outputs": [],
   "source": [
    "class multi_armed_bandit:\n",
    "    def __init__(self, k, bandits):\n",
    "        self.k = k\n",
    "        self.bandits = bandits\n",
    "        self.qn = np.zeros((self.bandits, self.k))\n",
    "        self.true_rewards =  np.zeros((self.bandits, k))\n",
    "        self.max_arms = np.argmax(self.true_rewards, 1)\n",
    "        \n",
    "    def random_walks(self):\n",
    "        self.true_rewards += np.random.normal(0,0.01,(self.bandits, self.k))\n",
    "        self.max_arms = np.argmax(self.true_rewards, 1)\n",
    "        \n",
    "    def increment_method(self, i, j, R, alpha):\n",
    "        self.qn[i][j] += alpha*(R - self.qn[i][j])\n",
    "        \n",
    "    def sampled_average(self):\n",
    "        pass"
   ]
  },
  {
   "cell_type": "code",
   "execution_count": 15,
   "metadata": {},
   "outputs": [
    {
     "ename": "KeyboardInterrupt",
     "evalue": "",
     "output_type": "error",
     "traceback": [
      "\u001b[1;31m---------------------------------------------------------------------------\u001b[0m",
      "\u001b[1;31mKeyboardInterrupt\u001b[0m                         Traceback (most recent call last)",
      "\u001b[1;32m<ipython-input-15-fb512dc96551>\u001b[0m in \u001b[0;36m<module>\u001b[1;34m\u001b[0m\n\u001b[0;32m     25\u001b[0m                 \u001b[0mp\u001b[0m \u001b[1;33m=\u001b[0m \u001b[0mnp\u001b[0m\u001b[1;33m.\u001b[0m\u001b[0mrandom\u001b[0m\u001b[1;33m.\u001b[0m\u001b[0mrandint\u001b[0m\u001b[1;33m(\u001b[0m\u001b[0mnonstationary_testbed\u001b[0m\u001b[1;33m.\u001b[0m\u001b[0mk\u001b[0m\u001b[1;33m)\u001b[0m\u001b[1;33m\u001b[0m\u001b[1;33m\u001b[0m\u001b[0m\n\u001b[0;32m     26\u001b[0m             \u001b[1;32melse\u001b[0m\u001b[1;33m:\u001b[0m\u001b[1;33m\u001b[0m\u001b[1;33m\u001b[0m\u001b[0m\n\u001b[1;32m---> 27\u001b[1;33m                 \u001b[0mp\u001b[0m \u001b[1;33m=\u001b[0m \u001b[0mnp\u001b[0m\u001b[1;33m.\u001b[0m\u001b[0margmax\u001b[0m\u001b[1;33m(\u001b[0m\u001b[0mnonstationary_testbed\u001b[0m\u001b[1;33m.\u001b[0m\u001b[0mqn\u001b[0m\u001b[1;33m[\u001b[0m\u001b[0mj\u001b[0m\u001b[1;33m]\u001b[0m\u001b[1;33m)\u001b[0m\u001b[1;33m\u001b[0m\u001b[1;33m\u001b[0m\u001b[0m\n\u001b[0m\u001b[0;32m     28\u001b[0m \u001b[1;33m\u001b[0m\u001b[0m\n\u001b[0;32m     29\u001b[0m             \u001b[1;32mif\u001b[0m\u001b[1;33m(\u001b[0m\u001b[0mp\u001b[0m \u001b[1;33m==\u001b[0m \u001b[0mtestbed\u001b[0m\u001b[1;33m.\u001b[0m\u001b[0mmax_arms\u001b[0m\u001b[1;33m[\u001b[0m\u001b[0mj\u001b[0m\u001b[1;33m]\u001b[0m\u001b[1;33m)\u001b[0m\u001b[1;33m:\u001b[0m\u001b[1;33m\u001b[0m\u001b[1;33m\u001b[0m\u001b[0m\n",
      "\u001b[1;32mc:\\users\\visha\\appdata\\local\\programs\\python\\python37-32\\lib\\site-packages\\numpy\\core\\fromnumeric.py\u001b[0m in \u001b[0;36margmax\u001b[1;34m(a, axis, out)\u001b[0m\n\u001b[0;32m   1101\u001b[0m \u001b[1;33m\u001b[0m\u001b[0m\n\u001b[0;32m   1102\u001b[0m     \"\"\"\n\u001b[1;32m-> 1103\u001b[1;33m     \u001b[1;32mreturn\u001b[0m \u001b[0m_wrapfunc\u001b[0m\u001b[1;33m(\u001b[0m\u001b[0ma\u001b[0m\u001b[1;33m,\u001b[0m \u001b[1;34m'argmax'\u001b[0m\u001b[1;33m,\u001b[0m \u001b[0maxis\u001b[0m\u001b[1;33m=\u001b[0m\u001b[0maxis\u001b[0m\u001b[1;33m,\u001b[0m \u001b[0mout\u001b[0m\u001b[1;33m=\u001b[0m\u001b[0mout\u001b[0m\u001b[1;33m)\u001b[0m\u001b[1;33m\u001b[0m\u001b[1;33m\u001b[0m\u001b[0m\n\u001b[0m\u001b[0;32m   1104\u001b[0m \u001b[1;33m\u001b[0m\u001b[0m\n\u001b[0;32m   1105\u001b[0m \u001b[1;33m\u001b[0m\u001b[0m\n",
      "\u001b[1;32mc:\\users\\visha\\appdata\\local\\programs\\python\\python37-32\\lib\\site-packages\\numpy\\core\\fromnumeric.py\u001b[0m in \u001b[0;36m_wrapfunc\u001b[1;34m(obj, method, *args, **kwds)\u001b[0m\n\u001b[0;32m     54\u001b[0m \u001b[1;32mdef\u001b[0m \u001b[0m_wrapfunc\u001b[0m\u001b[1;33m(\u001b[0m\u001b[0mobj\u001b[0m\u001b[1;33m,\u001b[0m \u001b[0mmethod\u001b[0m\u001b[1;33m,\u001b[0m \u001b[1;33m*\u001b[0m\u001b[0margs\u001b[0m\u001b[1;33m,\u001b[0m \u001b[1;33m**\u001b[0m\u001b[0mkwds\u001b[0m\u001b[1;33m)\u001b[0m\u001b[1;33m:\u001b[0m\u001b[1;33m\u001b[0m\u001b[1;33m\u001b[0m\u001b[0m\n\u001b[0;32m     55\u001b[0m     \u001b[1;32mtry\u001b[0m\u001b[1;33m:\u001b[0m\u001b[1;33m\u001b[0m\u001b[1;33m\u001b[0m\u001b[0m\n\u001b[1;32m---> 56\u001b[1;33m         \u001b[1;32mreturn\u001b[0m \u001b[0mgetattr\u001b[0m\u001b[1;33m(\u001b[0m\u001b[0mobj\u001b[0m\u001b[1;33m,\u001b[0m \u001b[0mmethod\u001b[0m\u001b[1;33m)\u001b[0m\u001b[1;33m(\u001b[0m\u001b[1;33m*\u001b[0m\u001b[0margs\u001b[0m\u001b[1;33m,\u001b[0m \u001b[1;33m**\u001b[0m\u001b[0mkwds\u001b[0m\u001b[1;33m)\u001b[0m\u001b[1;33m\u001b[0m\u001b[1;33m\u001b[0m\u001b[0m\n\u001b[0m\u001b[0;32m     57\u001b[0m \u001b[1;33m\u001b[0m\u001b[0m\n\u001b[0;32m     58\u001b[0m     \u001b[1;31m# An AttributeError occurs if the object does not have\u001b[0m\u001b[1;33m\u001b[0m\u001b[1;33m\u001b[0m\u001b[1;33m\u001b[0m\u001b[0m\n",
      "\u001b[1;31mKeyboardInterrupt\u001b[0m: "
     ]
    },
    {
     "data": {
      "image/png": "[encoded data removed]",
      "text/plain": [
       "<Figure size 432x288 with 1 Axes>"
      ]
     },
     "metadata": {
      "needs_background": "light"
     },
     "output_type": "display_data"
    },
    {
     "data": {
      "image/png": "[encoded data removed]",
      "text/plain": [
       "<Figure size 432x288 with 1 Axes>"
      ]
     },
     "metadata": {
      "needs_background": "light"
     },
     "output_type": "display_data"
    }
   ],
   "source": [
    "fig1 = plt.figure().add_subplot(111)\n",
    "fig2 = plt.figure().add_subplot(111)\n",
    "\n",
    "for optimism in [0,5]:\n",
    "    nonstationary_rewards = []\n",
    "    nonstationary_opt_pulls = []\n",
    "    nonstationary_testbed = multi_armed_bandit(10,2000)\n",
    "    nonstationary_testbed.qn += optimism\n",
    "\n",
    "    stationary_testbed = multi_armed_bandit(10,2000)\n",
    "    stationary_rewards = []\n",
    "    stationary_opt_pulls = []\n",
    "\n",
    "    epsilon = 0\n",
    "\n",
    "    for i in range(1001):\n",
    "        stationary_opt_pull = 0\n",
    "        nonstationary_opt_pull = 0\n",
    "        stationary_temp_rewards = []\n",
    "        nonstationary_temp_rewards = []\n",
    "        for j in range(nonstationary_testbed.bandits):\n",
    "\n",
    "            #non stationary\n",
    "            if(random.random() < epsilon):\n",
    "                p = np.random.randint(nonstationary_testbed.k)\n",
    "            else:\n",
    "                p = np.argmax(nonstationary_testbed.qn[j])\n",
    "\n",
    "            if(p == testbed.max_arms[j]):\n",
    "                nonstationary_opt_pull+=1\n",
    "\n",
    "            curr_reward = np.random.normal(nonstationary_testbed.true_rewards[j][p], 1)\n",
    "            temp_rewards.append(curr_reward)\n",
    "\n",
    "            nonstationary_testbed.increment_method(j, p, curr_reward, 0.1)\n",
    "\n",
    "            #stationary\n",
    "            if(random.random() < epsilon):\n",
    "                p = np.random.randint(stationary_testbed.k)\n",
    "            else:\n",
    "                p = np.argmax(stationary_testbed.qn[j])\n",
    "\n",
    "            if(p == testbed.max_arms[j]):\n",
    "                stationary_opt_pull+=1\n",
    "\n",
    "            curr_reward = np.random.normal(stationary_testbed.true_rewards[j][p], 1)\n",
    "            temp_rewards.append(curr_reward)\n",
    "\n",
    "            stationary_testbed.increment_method(j, p, curr_reward, 0.1)\n",
    "\n",
    "        nonstationary_testbed.random_walks()\n",
    "\n",
    "        avg_reward = np.mean(temp_rewards)\n",
    "        nonstationary_rewards.append(avg_reward)\n",
    "        nonstationary_opt_pulls.append(float(nonstationary_opt_pull)/20)\n",
    "\n",
    "        avg_reward = np.mean(temp_rewards)\n",
    "        stationary_rewards.append(avg_reward)\n",
    "        stationary_opt_pulls.append(float(stationary_opt_pull)/20)\n",
    "\n",
    "    fig1.plot(range(1001), stationary_rewards, 'r')\n",
    "    fig2.plot(range(1001), nonstationary_rewards, 'b')\n",
    "\n",
    "    fig1.plot(range(1001), stationary_opt_pulls, 'r')\n",
    "    fig2.plot(range(1001), nonstationary_opt_pulls, 'b')\n",
    "\n",
    "fig1.title.set_text('Stationary Case')\n",
    "fig2.title.set_text('Non-Stationary Case')"
   ]
  }
 ],
 "metadata": {
  "kernelspec": {
   "display_name": "Python 3",
   "language": "python",
   "name": "python3"
  },
  "language_info": {
   "codemirror_mode": {
    "name": "ipython",
    "version": 3
   },
   "file_extension": ".py",
   "mimetype": "text/x-python",
   "name": "python",
   "nbconvert_exporter": "python",
   "pygments_lexer": "ipython3",
   "version": "3.7.3"
  }
 },
 "nbformat": 4,
 "nbformat_minor": 2
}
