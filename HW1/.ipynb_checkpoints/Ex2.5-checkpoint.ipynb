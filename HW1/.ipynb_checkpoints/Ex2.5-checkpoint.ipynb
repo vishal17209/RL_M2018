{
 "cells": [
  {
   "cell_type": "code",
   "execution_count": 5,
   "metadata": {},
   "outputs": [],
   "source": [
    "import numpy as np\n",
    "import matplotlib.pyplot as plt\n",
    "import random"
   ]
  },
  {
   "cell_type": "code",
   "execution_count": null,
   "metadata": {},
   "outputs": [],
   "source": [
    "class NonStationary_Bandits:\n",
    "    def __init__(self, k, epsilon):\n",
    "        self.k = k\n",
    "        self.q_true = np.random.normal(0,1,k)\n",
    "        self.epsilons = epsilon\n",
    "        self.q_init = np.random.normal(0,self.q_true,k)\n",
    "        self.reward = np.zeros((n_bandits,k))\n",
    "        \n",
    "        \n",
    "    def updateTrue(self):\n",
    "        self.q_true += np.random(0,0.01,k)\n",
    "        \n",
    "    def updateIncrement(self):\n",
    "        self.\n",
    "        "
   ]
  },
  {
   "cell_type": "code",
   "execution_count": null,
   "metadata": {},
   "outputs": [],
   "source": []
  }
 ],
 "metadata": {
  "kernelspec": {
   "display_name": "Python 3",
   "language": "python",
   "name": "python3"
  },
  "language_info": {
   "codemirror_mode": {
    "name": "ipython",
    "version": 3
   },
   "file_extension": ".py",
   "mimetype": "text/x-python",
   "name": "python",
   "nbconvert_exporter": "python",
   "pygments_lexer": "ipython3",
   "version": "3.7.3"
  }
 },
 "nbformat": 4,
 "nbformat_minor": 2
}
