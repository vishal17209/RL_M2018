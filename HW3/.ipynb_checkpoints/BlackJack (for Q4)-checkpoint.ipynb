{
 "cells": [
  {
   "cell_type": "code",
   "execution_count": 4,
   "metadata": {},
   "outputs": [],
   "source": [
    "import numpy as np\n",
    "import matplotlib.pyplot as plt\n",
    "import random"
   ]
  },
  {
   "cell_type": "code",
   "execution_count": 5,
   "metadata": {},
   "outputs": [],
   "source": [
    "'''\n",
    "Class used as a template to implement BlackJack\n",
    "Defination of state - (current sum, dealers showing, ace is usable?)\n",
    "'''\n",
    "class BlackJack:\n",
    "    def __init__(self):\n",
    "        self.reward_win = 1\n",
    "        self.reward_loss = -1\n",
    "        self.reward_draw = 0\n",
    "        self.sum_range = sum_range\n",
    "        self.cards = [i for i in range(11)]\n",
    "        self.actions = [1,0]     #0-> stick, 1->hit\n",
    "        \n",
    "        self.player_policy = np.ones(22, dtype=int)\n",
    "        self.player_policy[20] = self.actions[1]\n",
    "        self.player_policy[21] = self.actions[1]\n",
    "        \n",
    "        self.dealer_policy = np.ones(22, dtype=int)\n",
    "        for i in range(17,22):\n",
    "            self.dealer_policy[i] = self.actions[1]\n",
    "        \n",
    "        "
   ]
  },
  {
   "cell_type": "code",
   "execution_count": 6,
   "metadata": {},
   "outputs": [
    {
     "name": "stderr",
     "output_type": "stream",
     "text": [
      "100%|██████████| 100/100 [00:00<00:00, 90531.06it/s]\n"
     ]
    }
   ],
   "source": []
  },
  {
   "cell_type": "code",
   "execution_count": null,
   "metadata": {},
   "outputs": [],
   "source": []
  }
 ],
 "metadata": {
  "kernelspec": {
   "display_name": "Python 3",
   "language": "python",
   "name": "python3"
  },
  "language_info": {
   "codemirror_mode": {
    "name": "ipython",
    "version": 3
   },
   "file_extension": ".py",
   "mimetype": "text/x-python",
   "name": "python",
   "nbconvert_exporter": "python",
   "pygments_lexer": "ipython3",
   "version": "3.7.3"
  }
 },
 "nbformat": 4,
 "nbformat_minor": 2
}
