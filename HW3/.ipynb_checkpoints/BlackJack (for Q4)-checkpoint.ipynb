{
 "cells": [
  {
   "cell_type": "code",
   "execution_count": 4,
   "metadata": {},
   "outputs": [],
   "source": [
    "import numpy as np\n",
    "import matplotlib.pyplot as plt\n",
    "import random"
   ]
  },
  {
   "cell_type": "code",
   "execution_count": 5,
   "metadata": {},
   "outputs": [],
   "source": [
    "'''\n",
    "Class used as a template to implement BlackJack\n",
    "Defination of state - (current sum, dealers showing, ace is usable?)\n",
    "'''\n",
    "class BlackJack:\n",
    "    def __init__(self):\n",
    "        self.reward_win = 1\n",
    "        self.reward_loss = -1\n",
    "        self.reward_draw = 0\n",
    "        self.sum_range = sum_range\n",
    "        self.cards = [i for i in range(11)]\n",
    "        self.actions = [1,0]     #0-> stick, 1->hit\n",
    "        \n",
    "        self.player_policy = np.ones(22, dtype=int)\n",
    "        self.player_policy[20] = self.actions[1]\n",
    "        self.player_policy[21] = self.actions[1]\n",
    "        \n",
    "        self.dealer_policy = np.ones(22, dtype=int)\n",
    "        for i in range(17,22):\n",
    "            self.dealer_policy[i] = self.actions[1]\n",
    "    \n",
    "    def playGame(self):\n",
    "        \n",
    "        #generate initial state\n",
    "        player_sum = 0\n",
    "        dealer_sum = 0\n",
    "        \n",
    "        usable_player_ace = False\n",
    "        usable_dealer_ace = False\n",
    "        \n",
    "        while(player_sum < 12):\n",
    "            \n",
    "            #selecting card 1-14 where 1-> Ace, 2-9 normal numbered cards, 10-12 are face cards\n",
    "            #10-12 group is then brought down to 10 so that they can be used as their value\n",
    "            card = min(random.randint(1,13), 10)\n",
    "            \n",
    "            card_value  = 0\n",
    "            if(card == 1):\n",
    "                card_value = 11\n",
    "            else:\n",
    "                card_value = card\n",
    "                \n",
    "            player_sum += card_value\n",
    "            \n",
    "            if(player_sum > 21):\n",
    "                if(player_sum == 22):\n",
    "                    player-=10\n",
    "            else:\n",
    "                usable_player_ace = (1 == card)\n",
    "            \n",
    "        #dealer will show card1\n",
    "        dealer_card1 = min(random.randint(1,13), 10)\n",
    "        dealer_card2 = min(random.randint(1,13), 10)\n",
    "            \n",
    "\n",
    "            \n",
    "        \n",
    "        "
   ]
  },
  {
   "cell_type": "code",
   "execution_count": 6,
   "metadata": {},
   "outputs": [
    {
     "name": "stderr",
     "output_type": "stream",
     "text": [
      "100%|██████████| 100/100 [00:00<00:00, 90531.06it/s]\n"
     ]
    }
   ],
   "source": []
  },
  {
   "cell_type": "code",
   "execution_count": null,
   "metadata": {},
   "outputs": [],
   "source": []
  }
 ],
 "metadata": {
  "kernelspec": {
   "display_name": "Python 3",
   "language": "python",
   "name": "python3"
  },
  "language_info": {
   "codemirror_mode": {
    "name": "ipython",
    "version": 3
   },
   "file_extension": ".py",
   "mimetype": "text/x-python",
   "name": "python",
   "nbconvert_exporter": "python",
   "pygments_lexer": "ipython3",
   "version": "3.7.3"
  }
 },
 "nbformat": 4,
 "nbformat_minor": 2
}
