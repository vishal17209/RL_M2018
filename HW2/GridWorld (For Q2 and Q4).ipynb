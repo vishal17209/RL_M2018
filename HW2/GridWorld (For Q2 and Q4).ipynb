{
 "cells": [
  {
   "cell_type": "code",
   "execution_count": 1,
   "metadata": {},
   "outputs": [],
   "source": [
    "%matplotlib inline\n",
    "import numpy as np\n",
    "import matplotlib.pyplot as plt\n",
    "import random"
   ]
  },
  {
   "cell_type": "code",
   "execution_count": 2,
   "metadata": {},
   "outputs": [],
   "source": [
    "class MDP:\n",
    "    def __init__(self, size, policy, discount, actions):\n",
    "        self.size = size\n",
    "        self.policy = policy\n",
    "        self.discount = discount\n",
    "        self.actions = actions\n",
    "        \n",
    "    def getNextState(self, state, action):\n",
    "        if(np.array_equal(state, np.array([0,1]))):\n",
    "            return np.array([4,1]), 10\n",
    "        elif(np.array_equal(state, np.array([0,3]))):\n",
    "            return np.array([2,3]), 5\n",
    "        new_state = state + action\n",
    "        new_i, new_j = new_state\n",
    "        if(new_i < 0 or new_i > self.size-1 or new_j < 0 or new_j > self.size-1):\n",
    "            new_state = state\n",
    "            return new_state, -1\n",
    "        return new_state, 0\n",
    "              \n",
    "    def generateFig32(self):\n",
    "        value_func = np.zeros((self.size, self.size))\n",
    "        updated_values = np.zeros_like(value_func)\n",
    "        error = 1000\n",
    "        \n",
    "        while(error > 1e-4):\n",
    "            updated_values = np.zeros_like(value_func)\n",
    "            for i in range(self.size):\n",
    "                for j in range(self.size):\n",
    "                    for a in self.actions:\n",
    "                        [new_i, new_j], reward = self.getNextState(np.array([i,j]), a)\n",
    "                        updated_values[i,j] +=  self.policy*(reward + self.discount*value_func[new_i, new_j])\n",
    "                  \n",
    "            error = np.sum(np.abs(value_func - updated_values))\n",
    "            value_func = updated_values\n",
    "            # print(error)\n",
    "        return np.round(updated_values, decimals=1)\n",
    "        \n",
    "    def generateFig35(self):\n",
    "        value_func = np.zeros((self.size, self.size))\n",
    "        updated_values = np.zeros_like(value_func)\n",
    "        error = 1000\n",
    "        \n",
    "        while(error > 1e-4):\n",
    "            updated_values = np.zeros_like(value_func)\n",
    "            for i in range(self.size):\n",
    "                for j in range(self.size):\n",
    "                    value_log = []\n",
    "                    for a in self.actions:\n",
    "                        [new_i, new_j], reward = self.getNextState(np.array([i,j]), a)\n",
    "                        value_log.append(reward + self.discount*value_func[new_i, new_j])\n",
    "                    updated_values[i,j] = np.max(value_log)\n",
    "                        \n",
    "            error = np.sum(np.abs(value_func - updated_values))\n",
    "            value_func = updated_values\n",
    "            # print(error)\n",
    "        return np.round(updated_values, decimals=1)\n",
    "            "
   ]
  },
  {
   "cell_type": "code",
   "execution_count": 3,
   "metadata": {},
   "outputs": [
    {
     "name": "stdout",
     "output_type": "stream",
     "text": [
      "[[ 3.3  8.8  4.4  5.3  1.5]\n",
      " [ 1.5  3.   2.3  1.9  0.5]\n",
      " [ 0.1  0.7  0.7  0.4 -0.4]\n",
      " [-1.  -0.4 -0.4 -0.6 -1.2]\n",
      " [-1.9 -1.3 -1.2 -1.4 -2. ]]\n"
     ]
    }
   ],
   "source": [
    "mdp = MDP(5, 0.25, 0.9, np.array([[0,-1],[0,1],[1,0],[-1,0]]))\n",
    "\n",
    "# fig1 = plt.figure(figsize = (20,10))\n",
    "# fig2 = plt.figure(figsize = (20,10))\n",
    "\n",
    "valueFig32 = mdp.generateFig32()\n",
    "\n",
    "print(valueFig32)"
   ]
  },
  {
   "cell_type": "code",
   "execution_count": 4,
   "metadata": {},
   "outputs": [
    {
     "name": "stdout",
     "output_type": "stream",
     "text": [
      "[[22.  24.4 22.  19.4 17.5]\n",
      " [19.8 22.  19.8 17.8 16. ]\n",
      " [17.8 19.8 17.8 16.  14.4]\n",
      " [16.  17.8 16.  14.4 13. ]\n",
      " [14.4 16.  14.4 13.  11.7]]\n"
     ]
    }
   ],
   "source": [
    "valueFig35 = mdp.generateFig35()\n",
    "\n",
    "print(valueFig35)"
   ]
  }
 ],
 "metadata": {
  "kernelspec": {
   "display_name": "Python 3",
   "language": "python",
   "name": "python3"
  },
  "language_info": {
   "codemirror_mode": {
    "name": "ipython",
    "version": 3
   },
   "file_extension": ".py",
   "mimetype": "text/x-python",
   "name": "python",
   "nbconvert_exporter": "python",
   "pygments_lexer": "ipython3",
   "version": "3.7.3"
  }
 },
 "nbformat": 4,
 "nbformat_minor": 2
}
