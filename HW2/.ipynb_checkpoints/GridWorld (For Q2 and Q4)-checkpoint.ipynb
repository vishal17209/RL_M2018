{
 "cells": [
  {
   "cell_type": "code",
   "execution_count": 77,
   "metadata": {},
   "outputs": [],
   "source": [
    "%matplotlib inline\n",
    "import numpy as np\n",
    "import matplotlib.pyplot as plt\n",
    "import random"
   ]
  },
  {
   "cell_type": "markdown",
   "metadata": {},
   "source": [
    "# Fig 3.2\n",
    "\n",
    "Figure 3.2 is generated using Bellmans equations. Firstly using all the avaialble states we model a system of equations.\n",
    "The matrix A represents the coefficients of Vpi(s') and b represents the constant that comes when we rearrange Bellmans equations\n",
    "\n",
    "# Fig 3.5\n",
    "\n",
    "Figure 3.5 is generated using Non linear equations and these equations are estimated using iterations to get the final value matrix."
   ]
  },
  {
   "cell_type": "code",
   "execution_count": 78,
   "metadata": {},
   "outputs": [],
   "source": [
    "class MDP:\n",
    "    def __init__(self, size, policy, discount, actions):\n",
    "        self.size = size\n",
    "        self.policy = policy\n",
    "        self.discount = discount\n",
    "        self.actions = actions\n",
    "        \n",
    "    '''\n",
    "    Function takes current state and action as input and gives\n",
    "    the reward and next state as output according to gridworld\n",
    "    '''\n",
    "    def getNextState(self, state, action):\n",
    "        if(np.array_equal(state, np.array([0,1]))):\n",
    "            return np.array([4,1]), 10\n",
    "        elif(np.array_equal(state, np.array([0,3]))):\n",
    "            return np.array([2,3]), 5\n",
    "        new_state = state + action\n",
    "        new_i, new_j = new_state\n",
    "        if(new_i < 0 or new_i > self.size-1 or new_j < 0 or new_j > self.size-1):\n",
    "            new_state = state\n",
    "            return new_state, -1\n",
    "        return new_state, 0\n",
    "              \n",
    "    '''\n",
    "    Function to generate Fig3.2\n",
    "    '''\n",
    "    def generateFig32(self):\n",
    "        A = np.zeros((self.size**2, self.size**2))\n",
    "        b = np.zeros(self.size**2)\n",
    "            \n",
    "        #matrix to index A and b\n",
    "        m = [[0 for i in range(self.size)] for j in range(self.size)]\n",
    "        c = 0\n",
    "        for i in range(self.size):\n",
    "            for j in range(self.size):\n",
    "                m[i][j] = c\n",
    "                c+=1\n",
    "        \n",
    "        for i in range(self.size):\n",
    "            for j in range(self.size):\n",
    "                for a in range(len(self.actions)):\n",
    "                    '''\n",
    "                    Getting the next state from the current state for all actions and then constructing the\n",
    "                    matrix A which is the coefficient of Vpi(s') \n",
    "                    And matrix b which is the constant that is policy*step_reward\n",
    "                    '''\n",
    "                    [new_i, new_j] , rewards = self.getNextState(np.array([i,j]), self.actions[a])\n",
    "                    A[m[i][j], m[new_i][new_j]] += self.policy*self.discount\n",
    "                    b[m[i][j]] += self.policy*rewards\n",
    "                A[m[i][j],m[i][j]] = A[m[i][j],m[i][j]]-1\n",
    "        \n",
    "        #solving the system of equations using linalg\n",
    "        X = np.linalg.solve(A,b)\n",
    "        return np.round(np.reshape(X*(-1), (5,5)),1)\n",
    "    \n",
    "    '''\n",
    "    Function to generate Fig3.5\n",
    "    '''\n",
    "    def generateFig35(self):\n",
    "        value_func = np.zeros((self.size, self.size))\n",
    "        updated_values = np.zeros_like(value_func)\n",
    "        error = 1000\n",
    "        \n",
    "        '''\n",
    "        Iterating over all states and actions to get the value function until the function has converged\n",
    "        assuming the equation is estimated properly when the error is <1e-4\n",
    "        '''\n",
    "        while(error > 1e-4):\n",
    "            updated_values = np.zeros_like(value_func)\n",
    "            #Iterating over all states\n",
    "            for i in range(self.size):\n",
    "                for j in range(self.size):\n",
    "                    value_log = []\n",
    "                    for a in self.actions:\n",
    "                        [new_i, new_j], reward = self.getNextState(np.array([i,j]), a)\n",
    "                        value_log.append(reward + self.discount*value_func[new_i, new_j])\n",
    "                    \n",
    "                    #updating the value function with the greedy choice\n",
    "                    updated_values[i,j] = np.max(value_log)\n",
    "            \n",
    "            #calculating error and udpating the main function\n",
    "            error = np.sum(np.abs(value_func - updated_values))\n",
    "            value_func = updated_values\n",
    "            # print(error)\n",
    "        return np.round(updated_values, 1)\n",
    "            "
   ]
  },
  {
   "cell_type": "code",
   "execution_count": 79,
   "metadata": {},
   "outputs": [
    {
     "name": "stdout",
     "output_type": "stream",
     "text": [
      "Fig 3.2: \n",
      "3.3 8.8 4.4 5.3 1.5 \n",
      "1.5 3.0 2.3 1.9 0.5 \n",
      "0.1 0.7 0.7 0.4 -0.4 \n",
      "-1.0 -0.4 -0.4 -0.6 -1.2 \n",
      "-1.9 -1.3 -1.2 -1.4 -2.0 \n"
     ]
    }
   ],
   "source": [
    "mdp = MDP(5, 0.25, 0.9, np.array([[0,-1],[0,1],[1,0],[-1,0]]))\n",
    "\n",
    "valueFig32 = mdp.generateFig32()\n",
    "\n",
    "print(\"Fig 3.2: \")\n",
    "for i in range(5):\n",
    "    for j in range(5):\n",
    "        print(valueFig32[i,j], end=\" \")\n",
    "    print()"
   ]
  },
  {
   "cell_type": "code",
   "execution_count": 80,
   "metadata": {},
   "outputs": [
    {
     "name": "stdout",
     "output_type": "stream",
     "text": [
      "Fig 3.5: \n",
      "22.0 24.4 22.0 19.4 17.5 \n",
      "19.8 22.0 19.8 17.8 16.0 \n",
      "17.8 19.8 17.8 16.0 14.4 \n",
      "16.0 17.8 16.0 14.4 13.0 \n",
      "14.4 16.0 14.4 13.0 11.7 \n"
     ]
    }
   ],
   "source": [
    "valueFig35 = mdp.generateFig35()\n",
    "\n",
    "print(\"Fig 3.5: \")\n",
    "for i in range(5):\n",
    "    for j in range(5):\n",
    "        print(valueFig35[i,j], end=\" \")\n",
    "    print()"
   ]
  }
 ],
 "metadata": {
  "kernelspec": {
   "display_name": "Python 3",
   "language": "python",
   "name": "python3"
  },
  "language_info": {
   "codemirror_mode": {
    "name": "ipython",
    "version": 3
   },
   "file_extension": ".py",
   "mimetype": "text/x-python",
   "name": "python",
   "nbconvert_exporter": "python",
   "pygments_lexer": "ipython3",
   "version": "3.7.3"
  }
 },
 "nbformat": 4,
 "nbformat_minor": 2
}
