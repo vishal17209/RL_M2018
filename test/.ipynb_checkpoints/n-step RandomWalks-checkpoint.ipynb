{
 "cells": [
  {
   "cell_type": "code",
   "execution_count": 2,
   "metadata": {},
   "outputs": [],
   "source": [
    "import numpy as np\n",
    "import matplotlib.pyplot as plt\n",
    "import random"
   ]
  },
  {
   "cell_type": "code",
   "execution_count": null,
   "metadata": {},
   "outputs": [],
   "source": [
    "class RandomWalks:\n",
    "    def __init__(self):\n",
    "        self.left = 0\n",
    "        self.right = 1\n",
    "        self.true_values = np.zeros(7)\n",
    "        self.true_values[1:6] = np.arange(1,6)/6\n",
    "    \n",
    "    def nstepTD(self, values):\n",
    "        state = 3\n",
    "        series = [state]\n",
    "        "
   ]
  }
 ],
 "metadata": {
  "kernelspec": {
   "display_name": "Python 3",
   "language": "python",
   "name": "python3"
  },
  "language_info": {
   "codemirror_mode": {
    "name": "ipython",
    "version": 3
   },
   "file_extension": ".py",
   "mimetype": "text/x-python",
   "name": "python",
   "nbconvert_exporter": "python",
   "pygments_lexer": "ipython3",
   "version": "3.7.3"
  }
 },
 "nbformat": 4,
 "nbformat_minor": 2
}
