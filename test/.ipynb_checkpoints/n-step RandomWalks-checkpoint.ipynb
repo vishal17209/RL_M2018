{
 "cells": [
  {
   "cell_type": "code",
   "execution_count": 41,
   "metadata": {},
   "outputs": [],
   "source": [
    "import numpy as np\n",
    "import matplotlib.pyplot as plt\n",
    "import random\n",
    "from tqdm import tqdm"
   ]
  },
  {
   "cell_type": "code",
   "execution_count": 42,
   "metadata": {},
   "outputs": [],
   "source": [
    "class RandomWalks:\n",
    "    def __init__(self):\n",
    "        self.left = -1\n",
    "        self.right = 1\n",
    "        self.true_values = np.arange(-20,22,2)/20\n",
    "        self.true_values[0] =  self.true_values[-1] = 0\n",
    "    \n",
    "    def nstepTD(self, values, n, alpha):\n",
    "        state = 10\n",
    "        \n",
    "        allrewards = [0]\n",
    "        allstates = [state]\n",
    "        \n",
    "        T = float('inf')\n",
    "        t = 0\n",
    "        while(True):\n",
    "            t += 1\n",
    "            \n",
    "            if(t < T):\n",
    "                action = 999\n",
    "                if(random.random() < 0.5):\n",
    "                    action = self.left\n",
    "                else:\n",
    "                    action = self.right\n",
    "                \n",
    "                next_state = state + action\n",
    "                \n",
    "                step_reward = 0\n",
    "                if(next_state == 0):\n",
    "                    step_reward = -1\n",
    "                elif(next_state == 20):\n",
    "                    step_reward = 1\n",
    "                else:\n",
    "                    step_reward = 0\n",
    "                    \n",
    "                allrewards.append(step_reward)\n",
    "                allstates.append(next_state)\n",
    "                \n",
    "                if(next_state == 0 or next_state == 20):\n",
    "                    T = t\n",
    "            tau = t - n\n",
    "            if(tau >= 0):\n",
    "                G = 0\n",
    "                for i in range(tau+1, min(tau+n+1,T+1),1):\n",
    "                    G += allrewards[i]\n",
    "                if(tau + n <= T):\n",
    "                    G += values[allstates[tau + n]]\n",
    "                \n",
    "                values[allstates[tau]] += alpha*(G - values[allstates[tau]])\n",
    "            \n",
    "            if(tau == T - 1):\n",
    "                break\n",
    "            state = next_state\n",
    "            \n",
    "    def figure(self):\n",
    "        steps = np.power(2, np.arange(0,10))\n",
    "        alphas = np.arange(0,1.1,0.1)\n",
    "        episodes = 10\n",
    "        runs = 100\n",
    "            \n",
    "        errors = np.zeros((len(steps), len(alphas)))\n",
    "        \n",
    "        for run in tqdm(range(runs)):\n",
    "            for i in range(len(steps)):\n",
    "                for j in range(len(alphas)):\n",
    "                    values = np.zeros((21))\n",
    "                    for e in range(episodes):\n",
    "                        self.nstepTD(values, steps[i], alphas[j])\n",
    "                        errors[i, j] += np.sqrt(np.sum(np.power(values - self.true_values, 2))/19)\n",
    "        errors /= episodes * runs\n",
    "        \n",
    "        plt.figure(figsize=(10,10))\n",
    "        for i in range(len(steps)):\n",
    "            plt.plot(alphas, errors[i, :], label='n = ' + str(steps[i]))\n",
    "        plt.legend()"
   ]
  },
  {
   "cell_type": "code",
   "execution_count": 43,
   "metadata": {},
   "outputs": [
    {
     "name": "stderr",
     "output_type": "stream",
     "text": [
      "  0%|          | 0/100 [00:00<?, ?it/s]\n"
     ]
    },
    {
     "ename": "IndexError",
     "evalue": "index 21 is out of bounds for axis 0 with size 21",
     "output_type": "error",
     "traceback": [
      "\u001b[0;31m---------------------------------------------------------------------------\u001b[0m",
      "\u001b[0;31mIndexError\u001b[0m                                Traceback (most recent call last)",
      "\u001b[0;32m<ipython-input-43-20247e74ab3f>\u001b[0m in \u001b[0;36m<module>\u001b[0;34m\u001b[0m\n\u001b[1;32m      1\u001b[0m \u001b[0mrand\u001b[0m \u001b[0;34m=\u001b[0m \u001b[0mRandomWalks\u001b[0m\u001b[0;34m(\u001b[0m\u001b[0;34m)\u001b[0m\u001b[0;34m\u001b[0m\u001b[0;34m\u001b[0m\u001b[0m\n\u001b[0;32m----> 2\u001b[0;31m \u001b[0mrand\u001b[0m\u001b[0;34m.\u001b[0m\u001b[0mfigure\u001b[0m\u001b[0;34m(\u001b[0m\u001b[0;34m)\u001b[0m\u001b[0;34m\u001b[0m\u001b[0;34m\u001b[0m\u001b[0m\n\u001b[0m",
      "\u001b[0;32m<ipython-input-42-18a69ed6bab2>\u001b[0m in \u001b[0;36mfigure\u001b[0;34m(self)\u001b[0m\n\u001b[1;32m     66\u001b[0m                     \u001b[0mvalues\u001b[0m \u001b[0;34m=\u001b[0m \u001b[0mnp\u001b[0m\u001b[0;34m.\u001b[0m\u001b[0mzeros\u001b[0m\u001b[0;34m(\u001b[0m\u001b[0;34m(\u001b[0m\u001b[0;36m21\u001b[0m\u001b[0;34m)\u001b[0m\u001b[0;34m)\u001b[0m\u001b[0;34m\u001b[0m\u001b[0;34m\u001b[0m\u001b[0m\n\u001b[1;32m     67\u001b[0m                     \u001b[0;32mfor\u001b[0m \u001b[0me\u001b[0m \u001b[0;32min\u001b[0m \u001b[0mrange\u001b[0m\u001b[0;34m(\u001b[0m\u001b[0mepisodes\u001b[0m\u001b[0;34m)\u001b[0m\u001b[0;34m:\u001b[0m\u001b[0;34m\u001b[0m\u001b[0;34m\u001b[0m\u001b[0m\n\u001b[0;32m---> 68\u001b[0;31m                         \u001b[0mself\u001b[0m\u001b[0;34m.\u001b[0m\u001b[0mnstepTD\u001b[0m\u001b[0;34m(\u001b[0m\u001b[0mvalues\u001b[0m\u001b[0;34m,\u001b[0m \u001b[0msteps\u001b[0m\u001b[0;34m[\u001b[0m\u001b[0mi\u001b[0m\u001b[0;34m]\u001b[0m\u001b[0;34m,\u001b[0m \u001b[0malphas\u001b[0m\u001b[0;34m[\u001b[0m\u001b[0mj\u001b[0m\u001b[0;34m]\u001b[0m\u001b[0;34m)\u001b[0m\u001b[0;34m\u001b[0m\u001b[0;34m\u001b[0m\u001b[0m\n\u001b[0m\u001b[1;32m     69\u001b[0m                         \u001b[0merrors\u001b[0m\u001b[0;34m[\u001b[0m\u001b[0mi\u001b[0m\u001b[0;34m,\u001b[0m \u001b[0mj\u001b[0m\u001b[0;34m]\u001b[0m \u001b[0;34m+=\u001b[0m \u001b[0mnp\u001b[0m\u001b[0;34m.\u001b[0m\u001b[0msqrt\u001b[0m\u001b[0;34m(\u001b[0m\u001b[0mnp\u001b[0m\u001b[0;34m.\u001b[0m\u001b[0msum\u001b[0m\u001b[0;34m(\u001b[0m\u001b[0mnp\u001b[0m\u001b[0;34m.\u001b[0m\u001b[0mpower\u001b[0m\u001b[0;34m(\u001b[0m\u001b[0mvalues\u001b[0m \u001b[0;34m-\u001b[0m \u001b[0mself\u001b[0m\u001b[0;34m.\u001b[0m\u001b[0mtrue_values\u001b[0m\u001b[0;34m,\u001b[0m \u001b[0;36m2\u001b[0m\u001b[0;34m)\u001b[0m\u001b[0;34m)\u001b[0m\u001b[0;34m/\u001b[0m\u001b[0;36m19\u001b[0m\u001b[0;34m)\u001b[0m\u001b[0;34m\u001b[0m\u001b[0;34m\u001b[0m\u001b[0m\n\u001b[1;32m     70\u001b[0m         \u001b[0merrors\u001b[0m \u001b[0;34m/=\u001b[0m \u001b[0mepisodes\u001b[0m \u001b[0;34m*\u001b[0m \u001b[0mruns\u001b[0m\u001b[0;34m\u001b[0m\u001b[0;34m\u001b[0m\u001b[0m\n",
      "\u001b[0;32m<ipython-input-42-18a69ed6bab2>\u001b[0m in \u001b[0;36mnstepTD\u001b[0;34m(self, values, n, alpha)\u001b[0m\n\u001b[1;32m     45\u001b[0m                     \u001b[0mG\u001b[0m \u001b[0;34m+=\u001b[0m \u001b[0mallrewards\u001b[0m\u001b[0;34m[\u001b[0m\u001b[0mi\u001b[0m\u001b[0;34m]\u001b[0m\u001b[0;34m\u001b[0m\u001b[0;34m\u001b[0m\u001b[0m\n\u001b[1;32m     46\u001b[0m                 \u001b[0;32mif\u001b[0m\u001b[0;34m(\u001b[0m\u001b[0mtau\u001b[0m \u001b[0;34m+\u001b[0m \u001b[0mn\u001b[0m \u001b[0;34m<=\u001b[0m \u001b[0mT\u001b[0m\u001b[0;34m)\u001b[0m\u001b[0;34m:\u001b[0m\u001b[0;34m\u001b[0m\u001b[0;34m\u001b[0m\u001b[0m\n\u001b[0;32m---> 47\u001b[0;31m                     \u001b[0mG\u001b[0m \u001b[0;34m+=\u001b[0m \u001b[0mvalues\u001b[0m\u001b[0;34m[\u001b[0m\u001b[0mallstates\u001b[0m\u001b[0;34m[\u001b[0m\u001b[0mtau\u001b[0m \u001b[0;34m+\u001b[0m \u001b[0mn\u001b[0m\u001b[0;34m]\u001b[0m\u001b[0;34m]\u001b[0m\u001b[0;34m\u001b[0m\u001b[0;34m\u001b[0m\u001b[0m\n\u001b[0m\u001b[1;32m     48\u001b[0m \u001b[0;34m\u001b[0m\u001b[0m\n\u001b[1;32m     49\u001b[0m                 \u001b[0mvalues\u001b[0m\u001b[0;34m[\u001b[0m\u001b[0mallstates\u001b[0m\u001b[0;34m[\u001b[0m\u001b[0mtau\u001b[0m\u001b[0;34m]\u001b[0m\u001b[0;34m]\u001b[0m \u001b[0;34m+=\u001b[0m \u001b[0malpha\u001b[0m\u001b[0;34m*\u001b[0m\u001b[0;34m(\u001b[0m\u001b[0mG\u001b[0m \u001b[0;34m-\u001b[0m \u001b[0mvalues\u001b[0m\u001b[0;34m[\u001b[0m\u001b[0mallstates\u001b[0m\u001b[0;34m[\u001b[0m\u001b[0mtau\u001b[0m\u001b[0;34m]\u001b[0m\u001b[0;34m]\u001b[0m\u001b[0;34m)\u001b[0m\u001b[0;34m\u001b[0m\u001b[0;34m\u001b[0m\u001b[0m\n",
      "\u001b[0;31mIndexError\u001b[0m: index 21 is out of bounds for axis 0 with size 21"
     ]
    }
   ],
   "source": [
    "rand = RandomWalks()\n",
    "rand.figure()"
   ]
  }
 ],
 "metadata": {
  "kernelspec": {
   "display_name": "Python 3",
   "language": "python",
   "name": "python3"
  },
  "language_info": {
   "codemirror_mode": {
    "name": "ipython",
    "version": 3
   },
   "file_extension": ".py",
   "mimetype": "text/x-python",
   "name": "python",
   "nbconvert_exporter": "python",
   "pygments_lexer": "ipython3",
   "version": "3.7.3"
  }
 },
 "nbformat": 4,
 "nbformat_minor": 2
}
