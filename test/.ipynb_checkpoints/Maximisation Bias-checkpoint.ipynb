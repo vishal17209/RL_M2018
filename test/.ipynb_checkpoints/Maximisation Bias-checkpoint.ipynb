{
 "cells": [
  {
   "cell_type": "code",
   "execution_count": 41,
   "metadata": {},
   "outputs": [],
   "source": [
    "import numpy as np\n",
    "import matplotlib.pyplot as plt\n",
    "import random\n",
    "from tqdm import tqdm"
   ]
  },
  {
   "cell_type": "code",
   "execution_count": 42,
   "metadata": {},
   "outputs": [],
   "source": [
    "# state info: A - 0, B - 1, 2 - terminal state\n",
    "# action info: left - 0, right - 1\n",
    "class MaximisationBias:\n",
    "    def __init__(self):\n",
    "        self.epsilon = 0.1\n",
    "        self.start = 0\n",
    "        \n",
    "    def getNextState(self, state, action):\n",
    "        if(state == 0 and action == 1):\n",
    "            return 2, 0\n",
    "        elif(state == 0 and action == 0):\n",
    "            return 1, 0\n",
    "        elif(state == 1):\n",
    "            return 2, np.random.normal(-0,1,1)\n",
    "    \n",
    "    def episode_double(self, q1, q2):\n",
    "        state = self.start\n",
    "        left_count = 0\n",
    "        \n",
    "        while(True):\n",
    "            total_q = q1 + q2\n",
    "            if(random.random() < self.epsilon):\n",
    "                if(state == 0):\n",
    "                    action = np.random.choice([0,1])\n",
    "                else:\n",
    "                    action = np.random.choice(range(10))\n",
    "            else:\n",
    "                action = np.argmax(total_q[state])\n",
    "                \n",
    "            if(state == 0 and action == 0):\n",
    "                left_count += 1\n",
    "            next_state, reward = self.getNextState(state, action)\n",
    "            \n",
    "            if(random.random() < 0.5):\n",
    "                q1[state][action] += 0.1*(reward + q2[next_state][np.argmax(q1[next_state])] - q1[state][action])\n",
    "            else:\n",
    "                q2[state][action] += 0.1*(reward + q1[next_state][np.argmax(q2[next_state])] - q2[state][action])\n",
    "            \n",
    "            state = next_state\n",
    "            \n",
    "            if(state == 2):\n",
    "                break\n",
    "        return left_count\n",
    "    \n",
    "    def episode_single(self, q):\n",
    "        state = self.start\n",
    "        left_count = 0\n",
    "        \n",
    "        while(True):\n",
    "            if(random.random() < self.epsilon):\n",
    "                if(state == 0):\n",
    "                    action = np.random.choice([0,1])\n",
    "                else:\n",
    "                    action = np.random.choice(range(10))\n",
    "            else:\n",
    "                action = np.argmax(q[state])\n",
    "                \n",
    "            if(state == 0 and action == 0):\n",
    "                left_count += 1\n",
    "            next_state, reward = self.getNextState(state, action)\n",
    "            \n",
    "            q[state][action] += 0.1*(reward + np.max(q[next_state]) - q[state][action])\n",
    "            \n",
    "            state = next_state\n",
    "            \n",
    "            if(state == 2):\n",
    "                break\n",
    "        return left_count\n",
    "        \n",
    "    def figure(self):\n",
    "        episodes = 300\n",
    "        runs = 10000\n",
    "        \n",
    "        left_count = np.zeros((runs, episodes))\n",
    "        left_count_single = np.zeros((runs, episodes))\n",
    "        \n",
    "        for i in tqdm(range(runs)):\n",
    "            q1 = [np.zeros(2), np.zeros(10), np.zeros(1)]\n",
    "            q2 = [np.zeros(2), np.zeros(10), np.zeros(1)]\n",
    "            q = [np.zeros(2), np.zeros(10), np.zeros(1)]\n",
    "        \n",
    "            for j in range(episodes):\n",
    "                left_count[i,j] = self.episode_double(q1, q2)\n",
    "                left_count_single[i,j] = self.episode_single(q)\n",
    "        left_count = left_count.mean(axis=0)\n",
    "        left_count_single = left_count_single.mean(axis=0)\n",
    "        \n",
    "        plt.figure(figsize=(20,10))\n",
    "        plt.plot(left_count)\n",
    "        plt.plot(left_count_single)\n",
    "#         print(left_count)"
   ]
  },
  {
   "cell_type": "code",
   "execution_count": 43,
   "metadata": {},
   "outputs": [
    {
     "name": "stderr",
     "output_type": "stream",
     "text": [
      "100%|██████████| 10000/10000 [01:26<00:00, 115.66it/s]\n"
     ]
    },
    {
     "data": {
      "image/png": "[encoded data removed]",
      "text/plain": [
       "<Figure size 432x288 with 1 Axes>"
      ]
     },
     "metadata": {
      "needs_background": "light"
     },
     "output_type": "display_data"
    }
   ],
   "source": [
    "mb = MaximisationBias()\n",
    "mb.figure()"
   ]
  },
  {
   "cell_type": "code",
   "execution_count": null,
   "metadata": {},
   "outputs": [],
   "source": []
  }
 ],
 "metadata": {
  "kernelspec": {
   "display_name": "Python 3",
   "language": "python",
   "name": "python3"
  },
  "language_info": {
   "codemirror_mode": {
    "name": "ipython",
    "version": 3
   },
   "file_extension": ".py",
   "mimetype": "text/x-python",
   "name": "python",
   "nbconvert_exporter": "python",
   "pygments_lexer": "ipython3",
   "version": "3.7.3"
  }
 },
 "nbformat": 4,
 "nbformat_minor": 2
}
