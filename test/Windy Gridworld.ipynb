{
 "cells": [
  {
   "cell_type": "code",
   "execution_count": 61,
   "metadata": {},
   "outputs": [],
   "source": [
    "import numpy as np\n",
    "import matplotlib.pyplot as plt\n",
    "import random"
   ]
  },
  {
   "cell_type": "code",
   "execution_count": 62,
   "metadata": {},
   "outputs": [],
   "source": [
    "class WindyGridworld:\n",
    "    def __init__(self, size_x, size_y):\n",
    "        self.size_x = size_x\n",
    "        self.size_y = size_y\n",
    "        self.start = (3,0)\n",
    "        self.goal = (3,7)\n",
    "        self.actions = [(0,1), (1,0), (0,-1), (-1,0)]\n",
    "        self.wind = [0,0,0,1,1,1,2,2,1,0]\n",
    "        self.epsilon = 0.1\n",
    "\n",
    "    def getNextState(self,state, action):\n",
    "        i, j = state\n",
    "        WIND = self.wind\n",
    "        if action == (-1,0):\n",
    "            return (max(i - 1 - WIND[j], 0), j),-1\n",
    "        elif action == (1,0):\n",
    "            return (max(min(i + 1 - WIND[j], self.size_x - 1), 0), j),-1\n",
    "        elif action == (0,-1):\n",
    "            return (max(i - WIND[j], 0), max(j - 1, 0)),-1\n",
    "        elif action == (0,1):\n",
    "            return (max(i - WIND[j], 0), min(j + 1, self.size_y - 1)),-1\n",
    "        \n",
    "    def actionToint(self,action):\n",
    "        return self.actions.index(action)\n",
    "    \n",
    "    def episode(self, action_value):\n",
    "        state = self.start\n",
    "        action = 999\n",
    "        \n",
    "        #selecting action using e-greedy policy\n",
    "        if(random.random() < self.epsilon):\n",
    "            action = np.random.choice([0,1,2,3])\n",
    "            action = self.actions[action]\n",
    "        else:\n",
    "            #greedy action using action values\n",
    "            values = action_value[state[0], state[1], : ]\n",
    "            action = np.argmax(values)\n",
    "            action = self.actions[action]\n",
    "            \n",
    "        total_rewards = 0\n",
    "        #running infinite loop and generating a sequence\n",
    "        while(True):\n",
    "            #Getting next state and then next action from the next state using e-greedy\n",
    "            new_state, reward = self.getNextState(state, action)\n",
    "            new_action = 999\n",
    "            if(random.random() < self.epsilon):\n",
    "                new_action = np.random.choice([0,1,2,3])\n",
    "                new_action = self.actions[new_action]\n",
    "            else:\n",
    "                #greedy action using action values\n",
    "                values = action_value[new_state[0], new_state[1], : ]\n",
    "                new_action = np.argmax(values)\n",
    "                new_action = self.actions[new_action]\n",
    "            \n",
    "            #calculate total rewards\n",
    "            total_rewards += 1\n",
    "            \n",
    "            #updaing action values using the update given for SARSA\n",
    "            action_value[state[0], state[1], self.actionToint(action)] += 0.5*(reward + action_value[new_state[0], new_state[1], self.actionToint(new_action)] - action_value[state[0], state[1], self.actionToint(action)])\n",
    "            \n",
    "            #updating current state and action\n",
    "            state = new_state\n",
    "            action = new_action    \n",
    "            \n",
    "            #stop when we reach goal\n",
    "            if(state == self.goal):\n",
    "                break\n",
    "        return total_rewards\n",
    "    \n",
    "    def figure(self):\n",
    "        action_values = np.zeros((self.size_x, self.size_y, len(self.actions)))\n",
    "        episode_limit = 500\n",
    "        \n",
    "        step= []\n",
    "        ep = 0\n",
    "        while(ep < episode_limit):\n",
    "            t = self.episode(action_values)\n",
    "#             print(t)\n",
    "#             print(action_values)\n",
    "            step.append(t)\n",
    "            ep += 1\n",
    "            \n",
    "        step = np.add.accumulate(step)\n",
    "        \n",
    "        plt.figure(figsize=(20,10))\n",
    "        plt.plot(step, np.arange(1, len(step) + 1)) \n",
    "#         print(action_values)\n",
    "        \n",
    "        print(self.actions)\n",
    "        for i in range(self.size_x):\n",
    "            for j in range(self.size_y):\n",
    "                action = np.argmax(action_values[i,j,:])\n",
    "                if(action == 0):\n",
    "                    print('R', end=\" \")\n",
    "                elif(action == 1):\n",
    "                    print('D', end=\" \")\n",
    "                elif(action == 2):\n",
    "                    print('L', end=\" \")\n",
    "                else:\n",
    "                    print('U', end=\" \")\n",
    "            print()\n",
    "        "
   ]
  },
  {
   "cell_type": "code",
   "execution_count": 63,
   "metadata": {},
   "outputs": [
    {
     "name": "stdout",
     "output_type": "stream",
     "text": [
      "[(0, 1), (1, 0), (0, -1), (-1, 0)]\n",
      "R R R R R R R R R D \n",
      "L R U U R R R D R D \n",
      "R R R U R R R D R D \n",
      "U U D R R R L R D D \n",
      "R R R R U R R D L L \n",
      "R R R D R R R D L D \n",
      "R R R R R R R R L L \n"
     ]
    },
    {
     "data": {
      "image/png": "[encoded data removed]",
      "text/plain": [
       "<Figure size 1440x720 with 1 Axes>"
      ]
     },
     "metadata": {
      "needs_background": "light"
     },
     "output_type": "display_data"
    }
   ],
   "source": [
    "grid = WindyGridworld(7,10)\n",
    "grid.figure()"
   ]
  },
  {
   "cell_type": "code",
   "execution_count": null,
   "metadata": {},
   "outputs": [],
   "source": []
  }
 ],
 "metadata": {
  "kernelspec": {
   "display_name": "Python 3",
   "language": "python",
   "name": "python3"
  },
  "language_info": {
   "codemirror_mode": {
    "name": "ipython",
    "version": 3
   },
   "file_extension": ".py",
   "mimetype": "text/x-python",
   "name": "python",
   "nbconvert_exporter": "python",
   "pygments_lexer": "ipython3",
   "version": "3.7.3"
  }
 },
 "nbformat": 4,
 "nbformat_minor": 2
}
