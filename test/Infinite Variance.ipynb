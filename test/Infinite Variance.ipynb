{
 "cells": [
  {
   "cell_type": "code",
   "execution_count": 11,
   "metadata": {},
   "outputs": [],
   "source": [
    "import numpy as np\n",
    "import matplotlib.pyplot as plt\n",
    "import random"
   ]
  },
  {
   "cell_type": "code",
   "execution_count": 13,
   "metadata": {},
   "outputs": [],
   "source": [
    "class InfiniteVariance:\n",
    "    def series_gen(self):\n",
    "        trajectory = []\n",
    "        while(True):\n",
    "            # 0-left 1-right\n",
    "            if(random.random() < 0.5):\n",
    "                #chossing to go right\n",
    "                trajectory.append((0,0,0))\n",
    "                break\n",
    "            else:\n",
    "                #going left frends\n",
    "                if(random.random() < 0.9):\n",
    "                    trajectory.append((0,0,1))\n",
    "                else:\n",
    "                    trajectory.append((0,1,1))\n",
    "                    break\n",
    "        return trajectory\n",
    "    \n",
    "    def MC(self):\n",
    "        q = np.zeros((2,2))\n",
    "        c = np.zeros((2,2))\n",
    "        \n",
    "        for _ in range(100000):\n",
    "            trajectory = self.series_gen()\n",
    "            g = 0\n",
    "            w = 1\n",
    "            for (state, reward, action) in trajectory:\n",
    "                g = g + reward\n",
    "                c[state, action] += w\n",
    "                q[state, action] += w*(g-q[state, action])/c[state, action]\n",
    "                if(action == 0):\n",
    "                    w = 0\n",
    "                else:\n",
    "                    w = 2*w\n",
    "        \n",
    "        v = np.zeros(2)\n",
    "        v[0] = (q[0,0] + q[0,1])/2\n",
    "        \n",
    "        return v"
   ]
  },
  {
   "cell_type": "code",
   "execution_count": 14,
   "metadata": {},
   "outputs": [
    {
     "data": {
      "image/png": "[encoded data removed]",
      "text/plain": [
       "<Figure size 432x288 with 1 Axes>"
      ]
     },
     "metadata": {
      "needs_background": "light"
     },
     "output_type": "display_data"
    }
   ],
   "source": [
    "inf = InfiniteVariance()\n",
    "values = inf.MC()\n",
    "\n",
    "plt.plot(values)\n",
    "plt.xscale('log')"
   ]
  },
  {
   "cell_type": "code",
   "execution_count": null,
   "metadata": {},
   "outputs": [],
   "source": []
  }
 ],
 "metadata": {
  "kernelspec": {
   "display_name": "Python 3",
   "language": "python",
   "name": "python3"
  },
  "language_info": {
   "codemirror_mode": {
    "name": "ipython",
    "version": 3
   },
   "file_extension": ".py",
   "mimetype": "text/x-python",
   "name": "python",
   "nbconvert_exporter": "python",
   "pygments_lexer": "ipython3",
   "version": "3.7.3"
  }
 },
 "nbformat": 4,
 "nbformat_minor": 2
}
